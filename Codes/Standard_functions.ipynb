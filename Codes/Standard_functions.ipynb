{
 "cells": [
  {
   "cell_type": "code",
   "execution_count": 1,
   "id": "9f66f9fa",
   "metadata": {},
   "outputs": [],
   "source": [
    "import pandas as pd\n",
    "import re\n",
    "import pymupdf\n",
    "import fitz\n",
    "import pymupdf4llm\n",
    "from pathlib import Path"
   ]
  },
  {
   "cell_type": "markdown",
   "id": "e9305c29",
   "metadata": {},
   "source": [
    "# Extraction of Text from PDF files and storing the result in text file"
   ]
  },
  {
   "cell_type": "code",
   "execution_count": 2,
   "id": "5532a1f0",
   "metadata": {},
   "outputs": [],
   "source": [
    "def pdf_parser(pdf_file):\n",
    "    lock_file = pdf_file.with_suffix(\".lock\")\n",
    "    try:\n",
    "        lock_file.touch() #creating lock file to markdown processing\n",
    "        with pymupdf.open(pdf_file) as doc:\n",
    "            text = chr(12).join([page.get_text() for page in doc]) #Preserve break page\n",
    "            final_text = \" \".join(text.split()) #Remove extra space\n",
    "        Path(pdf_file).with_suffix(\".txt\").write_bytes(final_text.encode()) #Store the output in txt format\n",
    "    finally:\n",
    "        if lock_file.exists():\n",
    "            lock_file.unlink()\n",
    "\n",
    "    \n",
    "def pdf_folder(path_to_folder):\n",
    "    folder = Path(path_to_folder)\n",
    "    \n",
    "    pdf_files = folder.glob(\"*.pdf\")\n",
    "    for pdf in pdf_files:\n",
    "        lock_file = pdf.with_suffix(\".lock\")\n",
    "        \n",
    "        if lock_file.exists():\n",
    "            print(f\"Skipping {pdf.name} (already processed)\")\n",
    "        pdf_parser(pdf)\n",
    "        \n",
    "pdf_folder(\"/Users/dibyaranjansahoo/Desktop/LLM_From_Scratch/\")"
   ]
  },
  {
   "cell_type": "code",
   "execution_count": 3,
   "id": "fdc6dbd0",
   "metadata": {},
   "outputs": [],
   "source": [
    "def text_file_reader(text_file):\n",
    "    with open(text_file, 'r', encoding='utf-8') as f:\n",
    "        raw_text = f.read()\n",
    "    return raw_text"
   ]
  },
  {
   "cell_type": "code",
   "execution_count": 5,
   "id": "35f611f1",
   "metadata": {},
   "outputs": [],
   "source": [
    "text1 = text_file_reader(\"Apple_Environmental_Progress_Report_2024.txt\")\n",
    "text2 = text_file_reader(\"Microsoft-2024-Environmental-Sustainability-Report.txt\")\n",
    "\n",
    "text = \" <|endoftext|> \".join((text1,text2))"
   ]
  },
  {
   "cell_type": "code",
   "execution_count": null,
   "id": "0a327c18",
   "metadata": {},
   "outputs": [],
   "source": []
  },
  {
   "cell_type": "code",
   "execution_count": null,
   "id": "c0a4536a",
   "metadata": {},
   "outputs": [],
   "source": []
  }
 ],
 "metadata": {
  "kernelspec": {
   "display_name": "Python 3 (ipykernel)",
   "language": "python",
   "name": "python3"
  },
  "language_info": {
   "codemirror_mode": {
    "name": "ipython",
    "version": 3
   },
   "file_extension": ".py",
   "mimetype": "text/x-python",
   "name": "python",
   "nbconvert_exporter": "python",
   "pygments_lexer": "ipython3",
   "version": "3.11.5"
  }
 },
 "nbformat": 4,
 "nbformat_minor": 5
}
